{
 "cells": [
  {
   "cell_type": "code",
   "execution_count": 1,
   "id": "7665fd2a-c3ca-425f-a771-6de1621a3142",
   "metadata": {},
   "outputs": [],
   "source": [
    "dummy_words = \"dummy_words\""
   ]
  },
  {
   "cell_type": "code",
   "execution_count": 2,
   "id": "db0335c7-9a8b-47f2-82ed-23b2ecc44dbe",
   "metadata": {},
   "outputs": [],
   "source": [
    "def licenses():\n",
    "  tmp = cl.OrderedDict()\n",
    "  tmp[\"id\"] = 1\n",
    "  tmp[\"url\"] = dummy_words\n",
    "  tmp[\"name\"] = \"administrater\"\n",
    "  return tmp"
   ]
  },
  {
   "cell_type": "code",
   "execution_count": 3,
   "id": "7ff45202-5612-4f5e-bde9-049fa46000d5",
   "metadata": {},
   "outputs": [],
   "source": [
    "def images():\n",
    "  tmps = []\n",
    "  for i in range(10):\n",
    "    tmp = cl.OrderedDict()\n",
    "    tmp[\"license\"] = 0\n",
    "    tmp[\"id\"] = i\n",
    "    tmp[\"file_name\"] = str(i) + \".png\"\n",
    "    tmp[\"width\"] = \"640\"\n",
    "    tmp[\"height\"] = \"480\"\n",
    "    tmp[\"date_captured\"] = \"2019-09-01 12:34:56\"\n",
    "    tmp[\"coco_url\"] = dummy_words\n",
    "    tmp[\"flickr_url\"] = dummy_words\n",
    "    tmps.append(tmp)\n",
    "  return tmps"
   ]
  },
  {
   "cell_type": "code",
   "execution_count": 4,
   "id": "e941e516-f931-453d-9214-d4e1ce687488",
   "metadata": {},
   "outputs": [],
   "source": [
    "def annotations():\n",
    "  tmps = []\n",
    "  for i in range(10):\n",
    "    tmp = cl.OrderedDict()\n",
    "\n",
    "    tmp_segmentation = cl.OrderedDict()\n",
    "    tmp_segmentation = [[10, 8]]\n",
    "    tmp[\"segmentation\"] = tmp_segmentation\n",
    "    tmp[\"id\"] = int(str(1000)+ str(i))\n",
    "    tmp[\"image_id\"] = i\n",
    "    tmp[\"category_id\"] = 62\n",
    "    tmp[\"area\"] = 10\n",
    "    tmp[\"iscrowd\"] = 0\n",
    "    tmp[\"bbox\"] =  [10, 10]\n",
    "    tmps.append(tmp)\n",
    "  return tmps"
   ]
  },
  {
   "cell_type": "code",
   "execution_count": 5,
   "id": "1d30f84c-07d9-4bf6-a890-8427398144e7",
   "metadata": {},
   "outputs": [],
   "source": [
    "def categories():\n",
    "  tmps = []\n",
    "  sup = [\"animal\", \"pill\"]\n",
    "  cat = [\"dog\", \"allergy\"]\n",
    "  for i in range(2):\n",
    "    tmp = cl.OrderedDict()\n",
    "    tmp[\"id\"] = str(i)\n",
    "    tmp[\"supercategory\"] = sup[i]\n",
    "    tmp[\"name\"] = cat[i]\n",
    "    tmps.append(tmp)\n",
    "  return tmps"
   ]
  },
  {
   "cell_type": "code",
   "execution_count": 6,
   "id": "d24c99aa-279e-4569-ac73-d6bd2e2a548e",
   "metadata": {},
   "outputs": [],
   "source": [
    "import json\n",
    "import collections as cl\n",
    "\n",
    "\n",
    "def info():\n",
    "  tmp = cl.OrderedDict()\n",
    "  tmp[\"description\"] = \"Test\"\n",
    "  tmp[\"url\"] = \"https://test\"\n",
    "  tmp[\"version\"] = \"0.01\"\n",
    "  tmp[\"year\"] = 2019\n",
    "  tmp[\"contributor\"] = \"xxxx\"\n",
    "  tmp[\"data_created\"] = \"2019/09/10\"\n",
    "  return tmp\n",
    "\n",
    "\n",
    "def main():\n",
    "    query_list = [\"info\", \"licenses\", \"images\", \"annotations\", \"categories\", \"segment_info\"]\n",
    "    js = cl.OrderedDict()\n",
    "    for i in range(len(query_list)):\n",
    "      tmp = \"\"\n",
    "    \n",
    "      print(i)\n",
    "        print(i)\n",
    "        \n",
    "      # Info\n",
    "      if query_list[i] == \"info\":\n",
    "        tmp = info()\n",
    "\n",
    "      # licenses\n",
    "      elif query_list[i] == \"licenses\":\n",
    "          tmp = licenses()\n",
    "\n",
    "      elif query_list[i] == \"images\":\n",
    "          tmp = images()\n",
    "\n",
    "      elif query_list[i] == \"annotations\":\n",
    "          tmp = annotations()\n",
    "\n",
    "      elif query_list[i] == \"categories\":\n",
    "          tmp = categories()\n",
    "        \n",
    "      # save it\n",
    "      js[query_list[i]] = tmp\n",
    "\n",
    "    # write\n",
    "    fw = open('datasets.json','w')\n",
    "    json.dump(js,fw,indent=2)"
   ]
  },
  {
   "cell_type": "code",
   "execution_count": null,
   "id": "bc651769-2942-41ff-a36b-dbbad16a18b4",
   "metadata": {},
   "outputs": [],
   "source": []
  },
  {
   "cell_type": "code",
   "execution_count": 7,
   "id": "9d701955-dce9-4c2b-87db-127cfffe0c9a",
   "metadata": {},
   "outputs": [],
   "source": [
    "main()"
   ]
  }
 ],
 "metadata": {
  "kernelspec": {
   "display_name": "Python 3 (ipykernel)",
   "language": "python",
   "name": "python3"
  },
  "language_info": {
   "codemirror_mode": {
    "name": "ipython",
    "version": 3
   },
   "file_extension": ".py",
   "mimetype": "text/x-python",
   "name": "python",
   "nbconvert_exporter": "python",
   "pygments_lexer": "ipython3",
   "version": "3.11.0"
  },
  "vscode": {
   "interpreter": {
    "hash": "2f56ba5d2b53942f083eb605afdd36a78375f55aac5a7304a7b3cb7332ca4316"
   }
  }
 },
 "nbformat": 4,
 "nbformat_minor": 5
}

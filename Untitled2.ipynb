{
 "cells": [
  {
   "cell_type": "code",
   "execution_count": 15,
   "id": "f832601d-235c-4e1b-9213-22bf3d13707a",
   "metadata": {},
   "outputs": [],
   "source": [
    "import json\n",
    "import pprint\n",
    "from PIL import Image, ImageFilter\n",
    "from PIL import ImageDraw"
   ]
  },
  {
   "cell_type": "code",
   "execution_count": 12,
   "id": "6f535a18-d16b-4048-aa22-5e9f57ab2c8e",
   "metadata": {},
   "outputs": [],
   "source": [
    "annotations_video_path = 'datasets_video/annotations_video/project-5-at-2022-11-18-10-25-767673e6.json'\n",
    "visual_path            = 'datasets_video/visual'\n",
    "video_render           = 'datasets/images'\n",
    "ellipse_w              = 5"
   ]
  },
  {
   "cell_type": "code",
   "execution_count": 3,
   "id": "4f8a552e-be74-40df-8fb4-fdaffaa42ceb",
   "metadata": {},
   "outputs": [],
   "source": [
    "with open(annotations_video_path) as f:\n",
    "    anno_video = json.load(f)"
   ]
  },
  {
   "cell_type": "code",
   "execution_count": 4,
   "id": "b9e4bc81-030e-4b73-8ca4-3e06ca6e066a",
   "metadata": {},
   "outputs": [
    {
     "name": "stdout",
     "output_type": "stream",
     "text": [
      "dict_keys(['id', 'annotations', 'file_upload', 'drafts', 'predictions', 'data', 'meta', 'created_at', 'updated_at', 'inner_id', 'total_annotations', 'cancelled_annotations', 'total_predictions', 'comment_count', 'unresolved_comment_count', 'last_comment_updated_at', 'project', 'updated_by', 'comment_authors'])\n"
     ]
    }
   ],
   "source": [
    "pprint.pprint(anno_video[0].keys())"
   ]
  },
  {
   "cell_type": "code",
   "execution_count": 5,
   "id": "04da7180-866e-4012-82c2-28e974dcf97a",
   "metadata": {},
   "outputs": [
    {
     "name": "stdout",
     "output_type": "stream",
     "text": [
      "dict_keys(['id', 'completed_by', 'result', 'was_cancelled', 'ground_truth', 'created_at', 'updated_at', 'lead_time', 'prediction', 'result_count', 'task', 'parent_prediction', 'parent_annotation'])\n"
     ]
    }
   ],
   "source": [
    "pprint.pprint(anno_video[0]['annotations'][0].keys())"
   ]
  },
  {
   "cell_type": "code",
   "execution_count": 6,
   "id": "23dac1b6-6c0e-4062-b0c0-663c52b9c761",
   "metadata": {},
   "outputs": [
    {
     "name": "stdout",
     "output_type": "stream",
     "text": [
      "dict_keys(['id', 'type', 'value', 'origin', 'to_name', 'from_name'])\n"
     ]
    }
   ],
   "source": [
    "pprint.pprint(anno_video[0]['annotations'][0]['result'][0].keys())"
   ]
  },
  {
   "cell_type": "code",
   "execution_count": 7,
   "id": "ea6fcce4-2af1-40fe-965e-5e28eda600c0",
   "metadata": {},
   "outputs": [
    {
     "name": "stdout",
     "output_type": "stream",
     "text": [
      "dict_keys(['labels', 'duration', 'sequence', 'framesCount'])\n"
     ]
    }
   ],
   "source": [
    "pprint.pprint(anno_video[0]['annotations'][0]['result'][0]['value'].keys())"
   ]
  },
  {
   "cell_type": "code",
   "execution_count": 8,
   "id": "b06d6439-d9bb-4fde-9871-926867ab138a",
   "metadata": {},
   "outputs": [
    {
     "name": "stdout",
     "output_type": "stream",
     "text": [
      "['player']\n"
     ]
    }
   ],
   "source": [
    "pprint.pprint(anno_video[0]['annotations'][0]['result'][0]['value']['labels'])"
   ]
  },
  {
   "cell_type": "code",
   "execution_count": 18,
   "id": "40b9e8a9-bbd4-4765-b6e3-d05020676ad5",
   "metadata": {},
   "outputs": [
    {
     "data": {
      "text/plain": [
       "[{'x': 39.09547738693468,\n",
       "  'y': 41.066443327749866,\n",
       "  'time': 0.04,\n",
       "  'frame': 1,\n",
       "  'width': 9.748743718592962,\n",
       "  'height': 34.66219988833055,\n",
       "  'enabled': True,\n",
       "  'rotation': 0},\n",
       " {'x': 39.09547738693462,\n",
       "  'y': 38.53952301188479,\n",
       "  'time': 0.52,\n",
       "  'frame': 13,\n",
       "  'width': 9.748743718592955,\n",
       "  'height': 40.5583472920157,\n",
       "  'enabled': True,\n",
       "  'rotation': 0},\n",
       " {'x': 39.09547738693468,\n",
       "  'y': 41.24511446119487,\n",
       "  'time': 0.6,\n",
       "  'frame': 15,\n",
       "  'width': 9.748743718592962,\n",
       "  'height': 34.66219988833055,\n",
       "  'enabled': True,\n",
       "  'rotation': 0},\n",
       " {'x': 39.09547738693464,\n",
       "  'y': 38.743718592964846,\n",
       "  'time': 1.08,\n",
       "  'frame': 27,\n",
       "  'width': 9.748743718592957,\n",
       "  'height': 39.128978224455594,\n",
       "  'enabled': True,\n",
       "  'rotation': 0},\n",
       " {'x': 39.999999999999964,\n",
       "  'y': 38.74371859296484,\n",
       "  'time': 1.72,\n",
       "  'frame': 43,\n",
       "  'width': 9.748743718592957,\n",
       "  'height': 39.128978224455594,\n",
       "  'enabled': True,\n",
       "  'rotation': 0},\n",
       " {'x': 41.222327855493646,\n",
       "  'y': 39.472889975402545,\n",
       "  'time': 2.72,\n",
       "  'frame': 68,\n",
       "  'width': 9.748743718592957,\n",
       "  'height': 39.128978224455594,\n",
       "  'enabled': True,\n",
       "  'rotation': 0},\n",
       " {'x': 45.52763819095473,\n",
       "  'y': 40.351758793969864,\n",
       "  'time': 3.2,\n",
       "  'frame': 80,\n",
       "  'width': 9.748743718592957,\n",
       "  'height': 39.128978224455594,\n",
       "  'enabled': True,\n",
       "  'rotation': 0},\n",
       " {'x': 43.919597989949715,\n",
       "  'y': 39.81574539363486,\n",
       "  'time': 5.68,\n",
       "  'frame': 142,\n",
       "  'width': 9.748743718592957,\n",
       "  'height': 39.128978224455594,\n",
       "  'enabled': True,\n",
       "  'rotation': 0},\n",
       " {'x': 40.402010050251214,\n",
       "  'y': 39.637074260189856,\n",
       "  'time': 8,\n",
       "  'frame': 200,\n",
       "  'width': 9.748743718592957,\n",
       "  'height': 39.128978224455594,\n",
       "  'enabled': True,\n",
       "  'rotation': 0},\n",
       " {'x': 40.10050251256276,\n",
       "  'y': 44.99720826353994,\n",
       "  'time': 8.4,\n",
       "  'frame': 210,\n",
       "  'width': 9.748743718592957,\n",
       "  'height': 39.128978224455594,\n",
       "  'enabled': True,\n",
       "  'rotation': 0},\n",
       " {'x': 39.29648241206024,\n",
       "  'y': 39.27973199329984,\n",
       "  'time': 8.72,\n",
       "  'frame': 218,\n",
       "  'width': 9.748743718592957,\n",
       "  'height': 39.128978224455594,\n",
       "  'enabled': True,\n",
       "  'rotation': 0}]"
      ]
     },
     "execution_count": 18,
     "metadata": {},
     "output_type": "execute_result"
    }
   ],
   "source": [
    "anno_video[0]['annotations'][0]['result'][0]['value']['sequence']"
   ]
  },
  {
   "cell_type": "code",
   "execution_count": 9,
   "id": "c6a5a144-067c-43af-b5ef-b3f52828482c",
   "metadata": {},
   "outputs": [],
   "source": [
    "sequence = anno_video[0]['annotations'][0]['result'][0]['value']['sequence']"
   ]
  },
  {
   "cell_type": "code",
   "execution_count": 17,
   "id": "a150f9ff-de34-42ae-aae4-e49c4e90ba90",
   "metadata": {},
   "outputs": [
    {
     "name": "stdout",
     "output_type": "stream",
     "text": [
      "{'enabled': True,\n",
      " 'frame': 1,\n",
      " 'height': 34.66219988833055,\n",
      " 'rotation': 0,\n",
      " 'time': 0.04,\n",
      " 'width': 9.748743718592962,\n",
      " 'x': 39.09547738693468,\n",
      " 'y': 41.066443327749866}\n"
     ]
    },
    {
     "ename": "RuntimeError",
     "evalue": "No active exception to reraise",
     "output_type": "error",
     "traceback": [
      "\u001b[0;31m---------------------------------------------------------------------------\u001b[0m",
      "\u001b[0;31mRuntimeError\u001b[0m                              Traceback (most recent call last)",
      "Cell \u001b[0;32mIn [17], line 10\u001b[0m\n\u001b[1;32m      8\u001b[0m save_path \u001b[38;5;241m=\u001b[39m visual_path \u001b[38;5;241m+\u001b[39m \u001b[38;5;124m'\u001b[39m\u001b[38;5;124m/\u001b[39m\u001b[38;5;132;01m{:09d}\u001b[39;00m\u001b[38;5;124m.jpg\u001b[39m\u001b[38;5;124m'\u001b[39m\u001b[38;5;241m.\u001b[39mformat(anno[\u001b[38;5;124m'\u001b[39m\u001b[38;5;124mframe\u001b[39m\u001b[38;5;124m'\u001b[39m])\n\u001b[1;32m      9\u001b[0m im\u001b[38;5;241m.\u001b[39msave(save_path, quality\u001b[38;5;241m=\u001b[39m\u001b[38;5;241m95\u001b[39m)\n\u001b[0;32m---> 10\u001b[0m \u001b[38;5;28;01mraise\u001b[39;00m\n",
      "\u001b[0;31mRuntimeError\u001b[0m: No active exception to reraise"
     ]
    }
   ],
   "source": [
    "for anno in sequence:\n",
    "    pprint.pprint(anno)\n",
    "    image_path = video_render + '/{:09d}.jpg'.format(anno['frame'])\n",
    "    im = Image.open(image_path)\n",
    "    draw = ImageDraw.Draw(im)\n",
    "    \n",
    "    x = anno['x']\n",
    "    y = anno['y']\n",
    "\n",
    "    draw.ellipse((x - ellipse_w, y - ellipse_w, x + ellipse_w, y + ellipse_w), fill=(255, 0, 0), outline=(0, 0, 0))\n",
    "    \n",
    "    save_path = visual_path + '/{:09d}.jpg'.format(anno['frame'])\n",
    "    im.save(save_path, quality=95)\n",
    "    raise"
   ]
  },
  {
   "cell_type": "code",
   "execution_count": null,
   "id": "adfda0d1-1689-490b-936b-f63eba3bc431",
   "metadata": {},
   "outputs": [],
   "source": []
  }
 ],
 "metadata": {
  "kernelspec": {
   "display_name": "Python 3 (ipykernel)",
   "language": "python",
   "name": "python3"
  },
  "language_info": {
   "codemirror_mode": {
    "name": "ipython",
    "version": 3
   },
   "file_extension": ".py",
   "mimetype": "text/x-python",
   "name": "python",
   "nbconvert_exporter": "python",
   "pygments_lexer": "ipython3",
   "version": "3.11.0"
  }
 },
 "nbformat": 4,
 "nbformat_minor": 5
}

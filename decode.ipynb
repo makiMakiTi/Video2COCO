{
 "cells": [
  {
   "cell_type": "code",
   "execution_count": 1,
   "id": "2d8e187c-1a5d-47bc-85fb-ce3a8db065b4",
   "metadata": {},
   "outputs": [],
   "source": [
    "import json\n",
    "import pprint\n",
    "from PIL import Image, ImageFilter\n",
    "from PIL import ImageDraw\n",
    "\n",
    "import matplotlib.pyplot as plt\n",
    "import numpy as np"
   ]
  },
  {
   "cell_type": "code",
   "execution_count": 2,
   "id": "51652389-9c2e-4aca-8b70-a884591ae6df",
   "metadata": {},
   "outputs": [],
   "source": [
    "annotations_video_path = 'datasets_video/annotations_video/project-5-at-2022-11-18-10-25-767673e6.json'\n",
    "visual_path            = 'datasets_video/visual'\n",
    "video_render           = 'datasets/images'\n",
    "ellipse_w              = 5"
   ]
  },
  {
   "cell_type": "code",
   "execution_count": null,
   "id": "1285bba0-9384-40f3-8cc8-b3e7371db4d9",
   "metadata": {},
   "outputs": [],
   "source": []
  },
  {
   "cell_type": "code",
   "execution_count": 3,
   "id": "f2806223-93c3-44e7-afb3-568282406826",
   "metadata": {},
   "outputs": [],
   "source": [
    "#!ffmpeg -i datasets_video/video/sample.mp4 -vcodec mjpeg datasets/images/%09d.jpg"
   ]
  },
  {
   "cell_type": "code",
   "execution_count": null,
   "id": "3f7600f5-5128-43b9-9b5a-9dc6119109a6",
   "metadata": {},
   "outputs": [],
   "source": []
  },
  {
   "cell_type": "code",
   "execution_count": 4,
   "id": "ae40b119-477c-4caf-83a8-6382b2db12ee",
   "metadata": {},
   "outputs": [],
   "source": [
    "with open(annotations_video_path) as f:\n",
    "    anno_video = json.load(f)"
   ]
  },
  {
   "cell_type": "code",
   "execution_count": 5,
   "id": "18db88cd-f611-463f-b7c3-2d45ade67c0c",
   "metadata": {},
   "outputs": [
    {
     "name": "stdout",
     "output_type": "stream",
     "text": [
      "dict_keys(['id', 'annotations', 'file_upload', 'drafts', 'predictions', 'data', 'meta', 'created_at', 'updated_at', 'inner_id', 'total_annotations', 'cancelled_annotations', 'total_predictions', 'comment_count', 'unresolved_comment_count', 'last_comment_updated_at', 'project', 'updated_by', 'comment_authors'])\n"
     ]
    }
   ],
   "source": [
    "pprint.pprint(anno_video[0].keys())"
   ]
  },
  {
   "cell_type": "code",
   "execution_count": 6,
   "id": "4cd9609e-d6b6-4370-ad1a-b054508c3541",
   "metadata": {},
   "outputs": [
    {
     "name": "stdout",
     "output_type": "stream",
     "text": [
      "dict_keys(['id', 'completed_by', 'result', 'was_cancelled', 'ground_truth', 'created_at', 'updated_at', 'lead_time', 'prediction', 'result_count', 'task', 'parent_prediction', 'parent_annotation'])\n"
     ]
    }
   ],
   "source": [
    "pprint.pprint(anno_video[0]['annotations'][0].keys())"
   ]
  },
  {
   "cell_type": "code",
   "execution_count": 7,
   "id": "dd4e111d-33a5-494f-8723-3169c5b14d26",
   "metadata": {},
   "outputs": [
    {
     "name": "stdout",
     "output_type": "stream",
     "text": [
      "dict_keys(['id', 'type', 'value', 'origin', 'to_name', 'from_name'])\n"
     ]
    }
   ],
   "source": [
    "pprint.pprint(anno_video[0]['annotations'][0]['result'][0].keys())"
   ]
  },
  {
   "cell_type": "code",
   "execution_count": 8,
   "id": "581359da-b420-4bce-8ab6-93546192e18a",
   "metadata": {},
   "outputs": [
    {
     "name": "stdout",
     "output_type": "stream",
     "text": [
      "dict_keys(['labels', 'duration', 'sequence', 'framesCount'])\n"
     ]
    }
   ],
   "source": [
    "pprint.pprint(anno_video[0]['annotations'][0]['result'][0]['value'].keys())"
   ]
  },
  {
   "cell_type": "code",
   "execution_count": 9,
   "id": "8849e116-c978-4fac-832b-bbca58cf004d",
   "metadata": {},
   "outputs": [
    {
     "name": "stdout",
     "output_type": "stream",
     "text": [
      "['player']\n"
     ]
    }
   ],
   "source": [
    "pprint.pprint(anno_video[0]['annotations'][0]['result'][0]['value']['labels'])"
   ]
  },
  {
   "cell_type": "code",
   "execution_count": 10,
   "id": "e72dbb8a-479d-4f47-9b1f-b0e1fe6feafa",
   "metadata": {},
   "outputs": [
    {
     "data": {
      "text/plain": [
       "[{'x': 39.09547738693468,\n",
       "  'y': 41.066443327749866,\n",
       "  'time': 0.04,\n",
       "  'frame': 1,\n",
       "  'width': 9.748743718592962,\n",
       "  'height': 34.66219988833055,\n",
       "  'enabled': True,\n",
       "  'rotation': 0},\n",
       " {'x': 39.09547738693462,\n",
       "  'y': 38.53952301188479,\n",
       "  'time': 0.52,\n",
       "  'frame': 13,\n",
       "  'width': 9.748743718592955,\n",
       "  'height': 40.5583472920157,\n",
       "  'enabled': True,\n",
       "  'rotation': 0},\n",
       " {'x': 39.09547738693468,\n",
       "  'y': 41.24511446119487,\n",
       "  'time': 0.6,\n",
       "  'frame': 15,\n",
       "  'width': 9.748743718592962,\n",
       "  'height': 34.66219988833055,\n",
       "  'enabled': True,\n",
       "  'rotation': 0},\n",
       " {'x': 39.09547738693464,\n",
       "  'y': 38.743718592964846,\n",
       "  'time': 1.08,\n",
       "  'frame': 27,\n",
       "  'width': 9.748743718592957,\n",
       "  'height': 39.128978224455594,\n",
       "  'enabled': True,\n",
       "  'rotation': 0},\n",
       " {'x': 39.999999999999964,\n",
       "  'y': 38.74371859296484,\n",
       "  'time': 1.72,\n",
       "  'frame': 43,\n",
       "  'width': 9.748743718592957,\n",
       "  'height': 39.128978224455594,\n",
       "  'enabled': True,\n",
       "  'rotation': 0},\n",
       " {'x': 41.222327855493646,\n",
       "  'y': 39.472889975402545,\n",
       "  'time': 2.72,\n",
       "  'frame': 68,\n",
       "  'width': 9.748743718592957,\n",
       "  'height': 39.128978224455594,\n",
       "  'enabled': True,\n",
       "  'rotation': 0},\n",
       " {'x': 45.52763819095473,\n",
       "  'y': 40.351758793969864,\n",
       "  'time': 3.2,\n",
       "  'frame': 80,\n",
       "  'width': 9.748743718592957,\n",
       "  'height': 39.128978224455594,\n",
       "  'enabled': True,\n",
       "  'rotation': 0},\n",
       " {'x': 43.919597989949715,\n",
       "  'y': 39.81574539363486,\n",
       "  'time': 5.68,\n",
       "  'frame': 142,\n",
       "  'width': 9.748743718592957,\n",
       "  'height': 39.128978224455594,\n",
       "  'enabled': True,\n",
       "  'rotation': 0},\n",
       " {'x': 40.402010050251214,\n",
       "  'y': 39.637074260189856,\n",
       "  'time': 8,\n",
       "  'frame': 200,\n",
       "  'width': 9.748743718592957,\n",
       "  'height': 39.128978224455594,\n",
       "  'enabled': True,\n",
       "  'rotation': 0},\n",
       " {'x': 40.10050251256276,\n",
       "  'y': 44.99720826353994,\n",
       "  'time': 8.4,\n",
       "  'frame': 210,\n",
       "  'width': 9.748743718592957,\n",
       "  'height': 39.128978224455594,\n",
       "  'enabled': True,\n",
       "  'rotation': 0},\n",
       " {'x': 39.29648241206024,\n",
       "  'y': 39.27973199329984,\n",
       "  'time': 8.72,\n",
       "  'frame': 218,\n",
       "  'width': 9.748743718592957,\n",
       "  'height': 39.128978224455594,\n",
       "  'enabled': True,\n",
       "  'rotation': 0}]"
      ]
     },
     "execution_count": 10,
     "metadata": {},
     "output_type": "execute_result"
    }
   ],
   "source": [
    "anno_video[0]['annotations'][0]['result'][0]['value']['sequence']"
   ]
  },
  {
   "cell_type": "code",
   "execution_count": 11,
   "id": "10831154-7391-4673-a2d1-df321e513498",
   "metadata": {},
   "outputs": [],
   "source": [
    "sequence = anno_video[0]['annotations'][0]['result'][0]['value']['sequence']"
   ]
  },
  {
   "cell_type": "code",
   "execution_count": 15,
   "id": "76ddcc08-3ba6-420a-9944-6176fcfb8b3d",
   "metadata": {},
   "outputs": [
    {
     "name": "stdout",
     "output_type": "stream",
     "text": [
      "{'enabled': True,\n",
      " 'frame': 1,\n",
      " 'height': 34.66219988833055,\n",
      " 'rotation': 0,\n",
      " 'time': 0.04,\n",
      " 'width': 9.748743718592962,\n",
      " 'x': 39.09547738693468,\n",
      " 'y': 41.066443327749866}\n"
     ]
    },
    {
     "ename": "RuntimeError",
     "evalue": "No active exception to reraise",
     "output_type": "error",
     "traceback": [
      "\u001b[0;31m---------------------------------------------------------------------------\u001b[0m",
      "\u001b[0;31mRuntimeError\u001b[0m                              Traceback (most recent call last)",
      "Cell \u001b[0;32mIn [15], line 14\u001b[0m\n\u001b[1;32m     12\u001b[0m save_path \u001b[38;5;241m=\u001b[39m visual_path \u001b[38;5;241m+\u001b[39m \u001b[38;5;124m'\u001b[39m\u001b[38;5;124m/\u001b[39m\u001b[38;5;132;01m{:09d}\u001b[39;00m\u001b[38;5;124m.jpg\u001b[39m\u001b[38;5;124m'\u001b[39m\u001b[38;5;241m.\u001b[39mformat(anno[\u001b[38;5;124m'\u001b[39m\u001b[38;5;124mframe\u001b[39m\u001b[38;5;124m'\u001b[39m])\n\u001b[1;32m     13\u001b[0m im\u001b[38;5;241m.\u001b[39msave(save_path, quality\u001b[38;5;241m=\u001b[39m\u001b[38;5;241m95\u001b[39m)\n\u001b[0;32m---> 14\u001b[0m \u001b[38;5;28;01mraise\u001b[39;00m\n",
      "\u001b[0;31mRuntimeError\u001b[0m: No active exception to reraise"
     ]
    }
   ],
   "source": [
    "for anno in sequence:\n",
    "    pprint.pprint(anno)\n",
    "    image_path = video_render + '/{:09d}.jpg'.format(anno['frame'])\n",
    "    im = Image.open(image_path)\n",
    "    draw = ImageDraw.Draw(im)\n",
    "    \n",
    "    x = anno['x'] * 16\n",
    "    y = anno['y'] * 16\n",
    "\n",
    "    draw.ellipse((x - ellipse_w, y - ellipse_w, x + ellipse_w, y + ellipse_w), fill=(255, 0, 0), outline=(0, 0, 0))\n",
    "    \n",
    "    save_path = visual_path + '/{:09d}.jpg'.format(anno['frame'])\n",
    "    im.save(save_path, quality=95)\n",
    "    raise"
   ]
  },
  {
   "cell_type": "code",
   "execution_count": null,
   "id": "01b575a7-265f-4a0c-b28a-040c2fcb137e",
   "metadata": {},
   "outputs": [],
   "source": []
  }
 ],
 "metadata": {
  "kernelspec": {
   "display_name": "Python 3 (ipykernel)",
   "language": "python",
   "name": "python3"
  },
  "language_info": {
   "codemirror_mode": {
    "name": "ipython",
    "version": 3
   },
   "file_extension": ".py",
   "mimetype": "text/x-python",
   "name": "python",
   "nbconvert_exporter": "python",
   "pygments_lexer": "ipython3",
   "version": "3.11.0"
  }
 },
 "nbformat": 4,
 "nbformat_minor": 5
}
